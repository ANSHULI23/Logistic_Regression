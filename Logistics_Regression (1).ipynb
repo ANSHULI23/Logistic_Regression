{
  "nbformat": 4,
  "nbformat_minor": 0,
  "metadata": {
    "colab": {
      "provenance": []
    },
    "kernelspec": {
      "name": "python3",
      "display_name": "Python 3"
    },
    "language_info": {
      "name": "python"
    }
  },
  "cells": [
    {
      "cell_type": "markdown",
      "source": [
        "#**Logistics Regression**"
      ],
      "metadata": {
        "id": "q9k2_hcXJtzJ"
      }
    },
    {
      "cell_type": "markdown",
      "source": [
        "#**Theoretical**"
      ],
      "metadata": {
        "id": "xV2bd8jnJzuf"
      }
    },
    {
      "cell_type": "markdown",
      "source": [
        "-----\n",
        "\n",
        "**1. What is Logistic Regression, and how does it differ from Linear Regression?**\n",
        "\n",
        "* **Linear Regression:** Predicts a continuous numerical output (e.g., house price). It fits a straight line to the data.\n",
        "* **Logistic Regression:** Predicts a categorical output (e.g., yes/no, spam/not spam). It estimates the probability of an event occurring, then classifies based on a threshold. It uses a \"squishing\" function (sigmoid) to constrain the output between 0 and 1.\n",
        "\n",
        "-----\n",
        "\n",
        "**2. What is the mathematical equation of Logistic Regression?**\n",
        "\n",
        "* The equation is: $P(y=1|x) = \\frac{1}{1 + e^{-(\\beta_0 + \\beta_1x_1 + \\beta_2x_2 + ... + \\beta_nx_n)}}$\n",
        "    * Where:\n",
        "        * $P(y=1|x)$ is the probability of the output being 1 (e.g., \"yes\").\n",
        "        * $e$ is Euler's number.\n",
        "        * $\\beta_0, \\beta_1, ... \\beta_n$ are the coefficients.\n",
        "        * $x_1, x_2, ... x_n$ are the input features.\n",
        "\n",
        "----\n",
        "\n",
        "**3. Why do we use the Sigmoid function in Logistic Regression?**\n",
        "\n",
        "* The sigmoid function (the fraction in the equation above) \"squishes\" any real number into a value between 0 and 1. This is perfect for probabilities, which must be within that range. It takes the linear output of the input features, and transforms it into a probability.\n",
        "\n",
        "----\n",
        "\n",
        "**4. What is the cost function of Logistic Regression?**\n",
        "\n",
        "* The cost function is called \"cross-entropy\" or \"log loss.\" It measures how wrong our predictions are. It penalizes incorrect predictions more heavily when they are made with high confidence. The goal is to minimize this cost.\n",
        "\n",
        "\n",
        "----\n",
        "\n",
        "**5. What is Regularization in Logistic Regression? Why is it needed?**\n",
        "\n",
        "* Regularization adds a penalty to the cost function based on the size of the coefficients. This prevents \"overfitting,\" where the model learns the training data too well and performs poorly on new data. It keeps the model simple.\n",
        "\n",
        "----\n",
        "\n",
        "**6. Explain the difference between Lasso, Ridge, and Elastic Net regression.**\n",
        "\n",
        "* **Ridge (L2):** Adds a penalty proportional to the *square* of the coefficients. Shrinks all coefficients, but rarely makes them exactly zero.\n",
        "* **Lasso (L1):** Adds a penalty proportional to the *absolute value* of the coefficients. Can shrink some coefficients to exactly zero, effectively performing feature selection.\n",
        "* **Elastic Net:** A combination of Ridge and Lasso. It adds both L1 and L2 penalties, providing a balance between feature selection and coefficient shrinkage.\n",
        "\n",
        "----\n",
        "\n",
        "**7. When should we use Elastic Net instead of Lasso or Ridge?**\n",
        "\n",
        "* When you have many features, and you suspect that some are correlated. Elastic Net combines the strengths of both Lasso and Ridge, handling correlated features better than Lasso alone and providing feature selection.\n",
        "\n",
        "----\n",
        "\n",
        "**8. What is the impact of the regularization parameter (λ) in Logistic Regression?**\n",
        "\n",
        "* The regularization parameter (lambda, often represented as \"C\" in libraries, where C=1/lambda) controls the strength of regularization.\n",
        "    * A large lambda (small C) means strong regularization: coefficients shrink more, simplifying the model.\n",
        "    * A small lambda (large C) means weak regularization: the model can become more complex, potentially overfitting.\n",
        "\n",
        "----\n",
        "\n",
        "**9. What are the key assumptions of Logistic Regression?**\n",
        "\n",
        "* Binary output.\n",
        "* Independence of features.\n",
        "* Linearity between features and the log-odds of the outcome.\n",
        "* No severe multicollinearity (high correlation between features).\n",
        "\n",
        "\n",
        "----\n",
        "\n",
        "**10. What are some alternatives to Logistic Regression for classification tasks?**\n",
        "\n",
        "* Decision Trees\n",
        "* Random Forests\n",
        "* Support Vector Machines (SVMs)\n",
        "* K-Nearest Neighbors (KNN)\n",
        "* Neural Networks\n",
        "\n",
        "----\n",
        "\n",
        "**11. What are Classification Evaluation Metrics?**\n",
        "\n",
        "* **Accuracy:** Overall correct predictions.\n",
        "* **Precision:** Correct positive predictions out of all positive predictions.\n",
        "* **Recall (Sensitivity):** Correct positive predictions out of all actual positive cases.\n",
        "* **F1-score:** Harmonic mean of precision and recall.\n",
        "* **AUC-ROC:** Area under the Receiver Operating Characteristic curve, measuring the ability to distinguish between classes.\n",
        "\n",
        "\n",
        "-----\n",
        "\n",
        "**12. How does class imbalance affect Logistic Regression?**\n",
        "\n",
        "* If one class is much more frequent than the other, the model may be biased towards the majority class. It might perform well on the majority class but poorly on the minority class. Solutions include oversampling, undersampling, and using class weights.\n",
        "\n",
        "------\n",
        "\n",
        "**13. What is Hyperparameter Tuning in Logistic Regression?**\n",
        "\n",
        "* It's the process of finding the best values for parameters like the regularization strength (C) and the solver. Techniques include grid search and cross-validation.\n",
        "\n",
        "------\n",
        "\n",
        "**14. What are different solvers in Logistic Regression? Which one should be used?**\n",
        "\n",
        "* Solvers are algorithms used to optimize the cost function. Common ones include:\n",
        "    * 'liblinear': Good for small datasets.\n",
        "    * 'lbfgs': Good for larger datasets, supports L2 regularization.\n",
        "    * 'sag' and 'saga': Good for large datasets, handle various regularization types.\n",
        "* The choice depends on the dataset size and the type of regularization.\n",
        "\n",
        "-----\n",
        "\n",
        "**15. How is Logistic Regression extended for multiclass classification?**\n",
        "\n",
        "* **One-vs-Rest (OvR):** Trains a binary classifier for each class against all other classes.\n",
        "* **Softmax Regression:** Generalizes logistic regression to multiple classes by calculating the probability of each class and selecting the class with the highest probability.\n",
        "\n",
        "\n",
        "----\n",
        "\n",
        "**16. What are the advantages and disadvantages of Logistic Regression?**\n",
        "\n",
        "* **Advantages:**\n",
        "    * Simple and easy to implement.\n",
        "    * Provides probabilities.\n",
        "    * Efficient for binary classification.\n",
        "    * Easy to interpret coefficients.\n",
        "* **Disadvantages:**\n",
        "    * Assumes linearity.\n",
        "    * Can struggle with complex relationships.\n",
        "    * Sensitive to outliers.\n",
        "\n",
        "\n",
        "----\n",
        "\n",
        "**17. What are some use cases of Logistic Regression?**\n",
        "\n",
        "* Spam detection.\n",
        "* Medical diagnosis (e.g., predicting disease presence).\n",
        "* Credit risk assessment.\n",
        "* Customer churn prediction.\n",
        "\n",
        "------\n",
        "\n",
        "**18. What is the difference between Softmax Regression and Logistic Regression?**\n",
        "\n",
        "* **Logistic Regression:** Binary classification (two classes).\n",
        "* **Softmax Regression:** Multiclass classification (more than two classes). Softmax outputs probabilities for each class, summing to 1.\n",
        "\n",
        "----\n",
        "\n",
        "**19. How do we choose between One-vs-Rest (OvR) and Softmax for multiclass classification?**\n",
        "\n",
        "* Softmax is generally preferred when the classes are mutually exclusive (an item belongs to only one class).\n",
        "* OvR can be useful when classes are not mutually exclusive (an item can belong to multiple classes).\n",
        "* In many cases, the results are very similar.\n",
        "\n",
        "-----\n",
        "\n",
        "\n",
        "**20. How do we interpret coefficients in Logistic Regression?**\n",
        "\n",
        "* The coefficients represent the change in the log-odds of the outcome for a one-unit change in the predictor, holding other predictors constant.\n",
        "* To make it more interpretable, you can exponentiate the coefficients, which gives you the odds ratio. An odds ratio greater than 1 means the odds of the outcome increase; less than 1 means they decrease.\n",
        "\n",
        "-----"
      ],
      "metadata": {
        "id": "ZmwnSaZNJ3Vs"
      }
    },
    {
      "cell_type": "markdown",
      "source": [
        "#**Practical**"
      ],
      "metadata": {
        "id": "nyfpTo4eLM8c"
      }
    },
    {
      "cell_type": "code",
      "source": [
        "#1. Write a Python program that loads a dataset, splits it into training and testing sets, applies Logistic Regression, and prints the model accuracy.\n",
        "\n",
        "import pandas as pd\n",
        "from sklearn.model_selection import train_test_split\n",
        "from sklearn.linear_model import LogisticRegression\n",
        "from sklearn.metrics import accuracy_score\n",
        "\n",
        "# Create a sample dataset (replace with your data loading)\n",
        "data = pd.DataFrame({\n",
        "    'feature1': [1, 2, 3, 4, 5, 6],\n",
        "    'feature2': [5, 4, 3, 2, 1, 0],\n",
        "    'target_column': [0, 0, 0, 1, 1, 1]  # Binary target\n",
        "})\n",
        "\n",
        "# Separate features (X) and target variable (y)\n",
        "X = data[['feature1', 'feature2']]  # Use a list of feature column names\n",
        "y = data['target_column']\n",
        "\n",
        "# Split data into training and testing sets\n",
        "X_train, X_test, y_train, y_test = train_test_split(X, y, test_size=0.2, random_state=42)\n",
        "\n",
        "# Create Logistic Regression model\n",
        "model = LogisticRegression()\n",
        "\n",
        "# Train the model\n",
        "model.fit(X_train, y_train)\n",
        "\n",
        "# Make predictions\n",
        "y_pred = model.predict(X_test)\n",
        "\n",
        "# Calculate accuracy\n",
        "accuracy = accuracy_score(y_test, y_pred)\n",
        "\n",
        "# Print accuracy\n",
        "print(\"Model Accuracy:\", accuracy)"
      ],
      "metadata": {
        "colab": {
          "base_uri": "https://localhost:8080/"
        },
        "id": "sgtCpJjlLPqi",
        "outputId": "e087485d-0bfc-403e-c763-526809f60293"
      },
      "execution_count": null,
      "outputs": [
        {
          "output_type": "stream",
          "name": "stdout",
          "text": [
            "Model Accuracy: 1.0\n"
          ]
        }
      ]
    },
    {
      "cell_type": "code",
      "source": [
        "# 2. Write a Python program to apply L1 regularization (Lasso) on a dataset using LogisticRegression (penalty='l1') and print the model accuracy.\n",
        "\n",
        "import pandas as pd\n",
        "from sklearn.model_selection import train_test_split\n",
        "from sklearn.linear_model import LogisticRegression\n",
        "from sklearn.metrics import accuracy_score\n",
        "\n",
        "# Create a sample dataset (replace with your data loading)\n",
        "data = pd.DataFrame({\n",
        "    'feature1': [1, 2, 3, 4, 5, 6],\n",
        "    'feature2': [5, 4, 3, 2, 1, 0],\n",
        "    'target_column': [0, 0, 0, 1, 1, 1]  # Binary target\n",
        "})\n",
        "\n",
        "# Separate features (X) and target variable (y)\n",
        "X = data[['feature1', 'feature2']]\n",
        "y = data['target_column']\n",
        "\n",
        "# Split data into training and testing sets\n",
        "X_train, X_test, y_train, y_test = train_test_split(X, y, test_size=0.2, random_state=42)\n",
        "\n",
        "# Create Logistic Regression model with L1 regularization\n",
        "model = LogisticRegression(penalty='l1', solver='liblinear')  # 'liblinear' for L1\n",
        "\n",
        "# Train the model\n",
        "model.fit(X_train, y_train)\n",
        "\n",
        "# Make predictions\n",
        "y_pred = model.predict(X_test)\n",
        "\n",
        "# Calculate accuracy\n",
        "accuracy = accuracy_score(y_test, y_pred)\n",
        "\n",
        "# Print accuracy\n",
        "print(\"Model Accuracy (L1 Regularization):\", accuracy)"
      ],
      "metadata": {
        "colab": {
          "base_uri": "https://localhost:8080/"
        },
        "id": "IeNaxKptLQmi",
        "outputId": "7831c932-356e-48ff-b4a1-fb0528df8897"
      },
      "execution_count": null,
      "outputs": [
        {
          "output_type": "stream",
          "name": "stdout",
          "text": [
            "Model Accuracy (L1 Regularization): 1.0\n"
          ]
        }
      ]
    },
    {
      "cell_type": "code",
      "source": [
        "# 3. Write a Python program to train Logistic Regression with L2 regularization (Ridge) using LogisticRegression (penalty='l2'). Print model accuracy and coefficients.\n",
        "\n",
        "import pandas as pd\n",
        "from sklearn.model_selection import train_test_split\n",
        "from sklearn.linear_model import LogisticRegression\n",
        "from sklearn.metrics import accuracy_score\n",
        "\n",
        "# Create a sample dataset (replace with your data loading)\n",
        "data = pd.DataFrame({\n",
        "    'feature1': [1, 2, 3, 4, 5, 6],\n",
        "    'feature2': [5, 4, 3, 2, 1, 0],\n",
        "    'target_column': [0, 0, 0, 1, 1, 1]  # Binary target\n",
        "})\n",
        "\n",
        "# Separate features (X) and target variable (y)\n",
        "X = data[['feature1', 'feature2']]\n",
        "y = data['target_column']\n",
        "\n",
        "# Split data into training and testing sets\n",
        "X_train, X_test, y_train, y_test = train_test_split(X, y, test_size=0.2, random_state=42)\n",
        "\n",
        "# Create Logistic Regression model with L2 regularization\n",
        "model = LogisticRegression(penalty='l2')  # 'l2' is the default\n",
        "\n",
        "# Train the model\n",
        "model.fit(X_train, y_train)\n",
        "\n",
        "# Make predictions\n",
        "y_pred = model.predict(X_test)\n",
        "\n",
        "# Calculate accuracy\n",
        "accuracy = accuracy_score(y_test, y_pred)\n",
        "\n",
        "# Print accuracy\n",
        "print(\"Model Accuracy (L2 Regularization):\", accuracy)\n",
        "\n",
        "# Print coefficients\n",
        "print(\"Model Coefficients:\", model.coef_)"
      ],
      "metadata": {
        "colab": {
          "base_uri": "https://localhost:8080/"
        },
        "id": "RBnBV7AwLQuO",
        "outputId": "c728e317-267b-4ffa-ddf9-0a60d170bdf4"
      },
      "execution_count": null,
      "outputs": [
        {
          "output_type": "stream",
          "name": "stdout",
          "text": [
            "Model Accuracy (L2 Regularization): 1.0\n",
            "Model Coefficients: [[ 0.60372287 -0.60348415]]\n"
          ]
        }
      ]
    },
    {
      "cell_type": "code",
      "source": [
        "# 4. Write a Python program to train Logistic Regression with Elastic Net Regularization (penalty='elasticnet').\n",
        "\n",
        "import numpy as np\n",
        "from sklearn.datasets import load_iris\n",
        "from sklearn.model_selection import train_test_split\n",
        "from sklearn.linear_model import LogisticRegression\n",
        "from sklearn.metrics import accuracy_score\n",
        "from sklearn.preprocessing import StandardScaler  # For feature scaling\n",
        "\n",
        "def train_elastic_net_logistic_regression(X, y, test_size=0.3, random_state=42,\n",
        "                                          alpha=1.0, l1_ratio=0.5):\n",
        "    \"\"\"\n",
        "    Trains a Logistic Regression model with Elastic Net regularization and evaluates accuracy.\n",
        "\n",
        "    Args:\n",
        "        X (numpy.ndarray): Feature data.\n",
        "        y (numpy.ndarray): Target data.\n",
        "        test_size (float, optional): Proportion of data for testing. Defaults to 0.3.\n",
        "        random_state (int, optional): Random seed. Defaults to 42.\n",
        "        alpha (float, optional): Total regularization strength. Defaults to 1.0.\n",
        "        l1_ratio (float, optional): Ratio of L1 to L2 penalty (0=L2, 1=L1). Defaults to 0.5.\n",
        "\n",
        "    Returns:\n",
        "        float: Accuracy of the model on the test set.\n",
        "    \"\"\"\n",
        "\n",
        "    # 1. Split data\n",
        "    X_train, X_test, y_train, y_test = train_test_split(X, y, test_size=test_size,\n",
        "                                                        random_state=random_state)\n",
        "\n",
        "    # 2. Scale the data (important for Elastic Net)\n",
        "    scaler = StandardScaler()\n",
        "    X_train_scaled = scaler.fit_transform(X_train)\n",
        "    X_test_scaled = scaler.transform(X_test)\n",
        "\n",
        "    # 3. Create and train the Logistic Regression model with Elastic Net\n",
        "    #    - penalty='elasticnet'\n",
        "    #    - l1_ratio:  Controls the mix of L1 and L2 (0 to 1)\n",
        "    #    - alpha:     Total regularization strength (similar to C, but higher = stronger)\n",
        "    model = LogisticRegression(penalty='elasticnet', l1_ratio=l1_ratio,\n",
        "                                 solver='saga',  # 'saga' is required for Elastic Net\n",
        "                                 max_iter=1000,\n",
        "                                 C=1.0/alpha)    #  Convert alpha to C\n",
        "    model.fit(X_train_scaled, y_train)\n",
        "\n",
        "    # 4. Make predictions\n",
        "    y_pred = model.predict(X_test_scaled)\n",
        "\n",
        "    # 5. Calculate and return accuracy\n",
        "    accuracy = accuracy_score(y_test, y_pred)\n",
        "    return accuracy\n",
        "\n",
        "\n",
        "if __name__ == '__main__':\n",
        "    # Load the Iris dataset\n",
        "    iris = load_iris()\n",
        "    X = iris.data\n",
        "    y = iris.target\n",
        "\n",
        "    accuracy = train_elastic_net_logistic_regression(X, y, alpha=0.1, l1_ratio=0.7)\n",
        "    print(\"Accuracy:\", accuracy)"
      ],
      "metadata": {
        "colab": {
          "base_uri": "https://localhost:8080/"
        },
        "id": "WPbAQcJ3LVGX",
        "outputId": "d074d66e-448b-41d8-d99b-131538664420"
      },
      "execution_count": null,
      "outputs": [
        {
          "output_type": "stream",
          "name": "stdout",
          "text": [
            "Accuracy: 1.0\n"
          ]
        }
      ]
    },
    {
      "cell_type": "code",
      "source": [
        "#5. Write a Python program to train a Logistic Regression model for multiclass classification using multi_class='ovr'.\n",
        "\n",
        "import numpy as np\n",
        "from sklearn.datasets import load_iris\n",
        "from sklearn.model_selection import train_test_split\n",
        "from sklearn.linear_model import LogisticRegression\n",
        "from sklearn.multiclass import OneVsRestClassifier  # For OvR\n",
        "from sklearn.metrics import accuracy_score\n",
        "\n",
        "def train_and_evaluate_ovr_logistic_regression(X, y, test_size=0.3, random_state=42):\n",
        "    \"\"\"\n",
        "    Trains a Logistic Regression model with One-vs-Rest strategy and evaluates its accuracy.\n",
        "\n",
        "    Args:\n",
        "        X (numpy.ndarray): Feature data.\n",
        "        y (numpy.ndarray): Target data.\n",
        "        test_size (float, optional): Proportion of data for testing. Defaults to 0.3.\n",
        "        random_state (int, optional): Random seed for reproducibility. Defaults to 42.\n",
        "\n",
        "    Returns:\n",
        "        float: Accuracy of the model on the test set.\n",
        "    \"\"\"\n",
        "\n",
        "    # 1. Split data into training and testing sets\n",
        "    X_train, X_test, y_train, y_test = train_test_split(X, y, test_size=test_size, random_state=random_state)\n",
        "\n",
        "    # 2. Create and train the Logistic Regression model using OneVsRestClassifier\n",
        "    #    - solver='liblinear':  Suitable for OvR, especially on smaller datasets\n",
        "    #    - max_iter=1000:      Ensure convergence\n",
        "    base_model = LogisticRegression(solver='liblinear', max_iter=1000)  # Base LogisticRegression model\n",
        "    model = OneVsRestClassifier(base_model)  # Wrap with OneVsRestClassifier\n",
        "    model.fit(X_train, y_train)\n",
        "\n",
        "    # 3. Make predictions\n",
        "    y_pred = model.predict(X_test)\n",
        "\n",
        "    # 4. Calculate and return accuracy\n",
        "    accuracy = accuracy_score(y_test, y_pred)\n",
        "    return accuracy\n",
        "\n",
        "\n",
        "if __name__ == '__main__':\n",
        "    # Load the Iris dataset\n",
        "    iris = load_iris()\n",
        "    X = iris.data\n",
        "    y = iris.target\n",
        "\n",
        "    accuracy = train_and_evaluate_ovr_logistic_regression(X, y)\n",
        "    print(\"Accuracy:\", accuracy)"
      ],
      "metadata": {
        "colab": {
          "base_uri": "https://localhost:8080/"
        },
        "id": "iMZhyoPKNIb9",
        "outputId": "de1df6ab-873b-49c3-e2cc-9195b78f0784"
      },
      "execution_count": null,
      "outputs": [
        {
          "output_type": "stream",
          "name": "stdout",
          "text": [
            "Accuracy: 0.9777777777777777\n"
          ]
        }
      ]
    },
    {
      "cell_type": "code",
      "source": [
        "#6. Write a Python program to apply GridSearchCV to tune the hyperparameters (C and penalty) of Logistic Regression. Print the best parameters and accuracy.\n",
        "\n",
        "import numpy as np\n",
        "from sklearn.datasets import load_iris\n",
        "from sklearn.model_selection import train_test_split, GridSearchCV\n",
        "from sklearn.linear_model import LogisticRegression\n",
        "from sklearn.metrics import accuracy_score\n",
        "from sklearn.model_selection import StratifiedKFold # For robust cross-validation\n",
        "\n",
        "def tune_logistic_regression_with_grid_search(X, y, test_size=0.3, random_state=42):\n",
        "    \"\"\"\n",
        "    Tunes Logistic Regression hyperparameters (C, penalty) using GridSearchCV.\n",
        "\n",
        "    Args:\n",
        "        X (numpy.ndarray): Feature data.\n",
        "        y (numpy.ndarray): Target data.\n",
        "        test_size (float, optional): Proportion of data for testing. Defaults to 0.3.\n",
        "        random_state (int, optional): Random seed. Defaults to 42.\n",
        "\n",
        "    Returns:\n",
        "        tuple: (best_params, best_accuracy, test_accuracy)\n",
        "               - best_params (dict): Best hyperparameters found.\n",
        "               - best_accuracy (float): Best cross-validation accuracy.\n",
        "               - test_accuracy (float): Accuracy on the test set.\n",
        "    \"\"\"\n",
        "\n",
        "    # 1. Split data\n",
        "    X_train, X_test, y_train, y_test = train_test_split(X, y, test_size=test_size,\n",
        "                                                        random_state=random_state)\n",
        "\n",
        "    # 2. Define hyperparameter grid\n",
        "    param_grid = {'C': [0.001, 0.01, 0.1, 1, 10, 100],\n",
        "                  'penalty': ['l1', 'l2']}\n",
        "\n",
        "    # 3. Create StratifiedKFold for cross-validation\n",
        "    #    - Ensures balanced class representation in each fold\n",
        "    cv = StratifiedKFold(n_splits=5, shuffle=True, random_state=random_state)\n",
        "\n",
        "    # 4. Create GridSearchCV object\n",
        "    grid_search = GridSearchCV(LogisticRegression(solver='liblinear', max_iter=1000),\n",
        "                                 param_grid, cv=cv, scoring='accuracy') # Added scoring\n",
        "\n",
        "    # 5. Run the grid search\n",
        "    grid_search.fit(X_train, y_train)\n",
        "\n",
        "    # 6. Get the best parameters and best cross-validation score\n",
        "    best_params = grid_search.best_params_\n",
        "    best_accuracy = grid_search.best_score_\n",
        "\n",
        "    # 7. Evaluate on the test set using the best model\n",
        "    best_model = grid_search.best_estimator_ # Get the best model directly\n",
        "    y_pred = best_model.predict(X_test)\n",
        "    test_accuracy = accuracy_score(y_test, y_pred)\n",
        "\n",
        "    return best_params, best_accuracy, test_accuracy\n",
        "\n",
        "\n",
        "if __name__ == '__main__':\n",
        "    # Load the Iris dataset\n",
        "    iris = load_iris()\n",
        "    X = iris.data\n",
        "    y = iris.target\n",
        "\n",
        "    best_params, best_cv_accuracy, test_accuracy = tune_logistic_regression_with_grid_search(X, y)\n",
        "\n",
        "    print(\"Best Parameters:\", best_params)\n",
        "    print(\"Best Cross-Validation Accuracy:\", best_cv_accuracy)\n",
        "    print(\"Test Set Accuracy:\", test_accuracy)"
      ],
      "metadata": {
        "colab": {
          "base_uri": "https://localhost:8080/"
        },
        "id": "RNS8VrfANHV7",
        "outputId": "b9dc148d-4482-433d-b747-a9552ffc724e"
      },
      "execution_count": null,
      "outputs": [
        {
          "output_type": "stream",
          "name": "stdout",
          "text": [
            "Best Parameters: {'C': 10, 'penalty': 'l2'}\n",
            "Best Cross-Validation Accuracy: 0.9523809523809523\n",
            "Test Set Accuracy: 1.0\n"
          ]
        }
      ]
    },
    {
      "cell_type": "code",
      "source": [
        "#7: Write a Python program to evaluate Logistic Regression using Stratified K-Fold Cross-Validation. Print the average accuracy.\n",
        "\n",
        "\n",
        "import numpy as np\n",
        "from sklearn.datasets import load_iris\n",
        "from sklearn.model_selection import StratifiedKFold, cross_val_score\n",
        "from sklearn.linear_model import LogisticRegression\n",
        "from sklearn.multiclass import OneVsRestClassifier  # For OvR\n",
        "import warnings  # To handle potential warnings\n",
        "\n",
        "def evaluate_logistic_regression_cv(X, y, n_splits=5, random_state=42):\n",
        "    \"\"\"\n",
        "    Evaluates Logistic Regression using Stratified K-Fold Cross-Validation.\n",
        "\n",
        "    Args:\n",
        "        X (numpy.ndarray): Feature data.\n",
        "        y (numpy.ndarray): Target data.\n",
        "        n_splits (int, optional): Number of folds in cross-validation. Defaults to 5.\n",
        "        random_state (int, optional): Random seed. Defaults to 42.\n",
        "\n",
        "    Returns:\n",
        "        float: Average accuracy across all folds.\n",
        "    \"\"\"\n",
        "\n",
        "    # 1. Create StratifiedKFold object\n",
        "    skf = StratifiedKFold(n_splits=n_splits, shuffle=True, random_state=random_state)\n",
        "\n",
        "    # 2. Create Logistic Regression model (wrapped in OneVsRestClassifier)\n",
        "    base_model = LogisticRegression(solver='liblinear', max_iter=1000)\n",
        "    model = OneVsRestClassifier(base_model)\n",
        "\n",
        "    # 3. Perform Stratified K-Fold Cross-Validation\n",
        "    #    - Suppress potential FutureWarning (as we're handling OvR correctly)\n",
        "    with warnings.catch_warnings():\n",
        "        warnings.filterwarnings(\"ignore\", category=FutureWarning)\n",
        "        scores = cross_val_score(model, X, y, cv=skf, scoring='accuracy')\n",
        "\n",
        "    # 4. Calculate and return the average accuracy\n",
        "    average_accuracy = np.mean(scores)\n",
        "    return average_accuracy\n",
        "\n",
        "\n",
        "if __name__ == '__main__':\n",
        "    # Load the Iris dataset\n",
        "    iris = load_iris()\n",
        "    X = iris.data\n",
        "    y = iris.target\n",
        "\n",
        "    avg_accuracy = evaluate_logistic_regression_cv(X, y)\n",
        "    print(\"Average Accuracy:\", avg_accuracy)"
      ],
      "metadata": {
        "id": "iOdm23NVNHgr",
        "colab": {
          "base_uri": "https://localhost:8080/"
        },
        "outputId": "9b0908d2-cffe-4d3a-a1c7-f95da3913699"
      },
      "execution_count": null,
      "outputs": [
        {
          "output_type": "stream",
          "name": "stdout",
          "text": [
            "Average Accuracy: 0.96\n"
          ]
        }
      ]
    },
    {
      "cell_type": "code",
      "source": [
        "#8: Write a Python program to load a dataset from a CSV file, apply Logistic Regression, and evaluate its accuracy.\n",
        "\n",
        "import pandas as pd\n",
        "from sklearn.model_selection import train_test_split\n",
        "from sklearn.linear_model import LogisticRegression\n",
        "from sklearn.metrics import accuracy_score\n",
        "\n",
        "def train_and_evaluate_logistic_regression_from_csv(csv_file, target_column, test_size=0.3, random_state=42):\n",
        "    \"\"\"\n",
        "    Loads data from a CSV file, trains a Logistic Regression model, and evaluates accuracy.\n",
        "\n",
        "    Args:\n",
        "        csv_file (str): Path to the CSV file.\n",
        "        target_column (str): Name of the target variable column.\n",
        "        test_size (float, optional): Proportion of data for testing. Defaults to 0.3.\n",
        "        random_state (int, optional): Random seed. Defaults to 42.\n",
        "\n",
        "    Returns:\n",
        "        float: Accuracy of the model on the test set.\n",
        "    \"\"\"\n",
        "\n",
        "    # 1. Load the dataset from a CSV file\n",
        "    try:\n",
        "        data = pd.read_csv(csv_file)\n",
        "    except FileNotFoundError:\n",
        "        print(f\"Error: CSV file not found at {csv_file}\")\n",
        "        return None\n",
        "\n",
        "    # 2. Separate features (X) and target variable (y)\n",
        "    if target_column not in data.columns:\n",
        "        print(f\"Error: Target column '{target_column}' not found in CSV.\")\n",
        "        return None\n",
        "\n",
        "    X = data.drop(target_column, axis=1)\n",
        "    y = data[target_column]\n",
        "\n",
        "    # 3. Split data\n",
        "    X_train, X_test, y_train, y_test = train_test_split(X, y, test_size=test_size,\n",
        "                                                        random_state=random_state)\n",
        "\n",
        "    # 4. Create and train the Logistic Regression model\n",
        "    model = LogisticRegression(solver='liblinear', max_iter=100) #  max_iter - handle convergence\n",
        "    model.fit(X_train, y_train)\n",
        "\n",
        "    # 5. Make predictions\n",
        "    y_pred = model.predict(X_test)\n",
        "\n",
        "    # 6. Calculate and return accuracy\n",
        "    accuracy = accuracy_score(y_test, y_pred)\n",
        "    return accuracy\n",
        "\n",
        "\n",
        "if __name__ == '__main__':\n",
        "    # Example usage (replace with your actual CSV file and target column)\n",
        "    csv_file = 'your_dataset.csv'\n",
        "    target_column = 'target'\n",
        "\n",
        "    accuracy = train_and_evaluate_logistic_regression_from_csv(csv_file, target_column)\n",
        "\n",
        "    if accuracy is not None:\n",
        "        print(\"Accuracy:\", accuracy)"
      ],
      "metadata": {
        "colab": {
          "base_uri": "https://localhost:8080/"
        },
        "id": "hGEbVC8N_OC9",
        "outputId": "aa0e63f4-d2d3-4b36-a3ff-3da91e734d22"
      },
      "execution_count": null,
      "outputs": [
        {
          "output_type": "stream",
          "name": "stdout",
          "text": [
            "Error: CSV file not found at your_dataset.csv\n"
          ]
        }
      ]
    },
    {
      "cell_type": "code",
      "source": [
        "#9. Write a Python program to apply RandomizedSearchCV for tuning hyperparameters (C, penalty, solver) in Logistic Regression. Print the best parameters and accuracy.\n",
        "\n",
        "from sklearn.model_selection import RandomizedSearchCV, train_test_split\n",
        "from sklearn.linear_model import LogisticRegression\n",
        "from sklearn.datasets import load_digits\n",
        "import numpy as np\n",
        "\n",
        "# Load dataset\n",
        "digits = load_digits()\n",
        "X, y = digits.data, digits.target\n",
        "X_train, X_test, y_train, y_test = train_test_split(X, y, test_size=0.2, random_state=42)\n",
        "\n",
        "# Define parameter grid\n",
        "param_dist = {\n",
        "    'C': np.logspace(-4, 4, 10),  # Regularization strength\n",
        "    'penalty': ['l1', 'l2'],  # Regularization type\n",
        "    'solver': ['liblinear']  # Compatible solver with l1 and l2\n",
        "}\n",
        "\n",
        "# Apply RandomizedSearchCV\n",
        "log_reg = LogisticRegression(max_iter=5000)\n",
        "random_search = RandomizedSearchCV(log_reg, param_distributions=param_dist, n_iter=10, cv=5, verbose=1, random_state=42)\n",
        "random_search.fit(X_train, y_train)\n",
        "\n",
        "# Print best parameters and accuracy\n",
        "best_params = random_search.best_params_\n",
        "best_accuracy = random_search.best_score_\n",
        "\n",
        "print(\"Best Parameters:\", {k: (v if isinstance(v, str) else float(v)) for k, v in best_params.items()})\n",
        "print(\"Best Accuracy:\", round(best_accuracy, 4))"
      ],
      "metadata": {
        "id": "M3dES8ah_SLj",
        "colab": {
          "base_uri": "https://localhost:8080/"
        },
        "outputId": "3009bd71-83b9-4a30-9e46-5c39d85aee24"
      },
      "execution_count": null,
      "outputs": [
        {
          "output_type": "stream",
          "name": "stdout",
          "text": [
            "Fitting 5 folds for each of 10 candidates, totalling 50 fits\n",
            "Best Parameters: {'solver': 'liblinear', 'penalty': 'l1', 'C': 0.3593813663804626}\n",
            "Best Accuracy: 0.9603\n"
          ]
        }
      ]
    },
    {
      "cell_type": "code",
      "source": [
        "#10. Write a Python program to implement One-vs-One (OvO) Multiclass Logistic Regression and print accuracy.\n",
        "\n",
        "from sklearn.model_selection import train_test_split\n",
        "from sklearn.linear_model import LogisticRegression\n",
        "from sklearn.datasets import load_digits\n",
        "from sklearn.metrics import accuracy_score\n",
        "from sklearn.multiclass import OneVsOneClassifier\n",
        "\n",
        "# Load dataset\n",
        "digits = load_digits()\n",
        "X, y = digits.data, digits.target\n",
        "X_train, X_test, y_train, y_test = train_test_split(X, y, test_size=0.2, random_state=42)\n",
        "\n",
        "# Train One-vs-One (OvO) Logistic Regression\n",
        "ovo_classifier = OneVsOneClassifier(LogisticRegression(solver='lbfgs', max_iter=5000))\n",
        "ovo_classifier.fit(X_train, y_train)\n",
        "\n",
        "# Predict and evaluate accuracy\n",
        "y_pred_ovo = ovo_classifier.predict(X_test)\n",
        "accuracy_ovo = accuracy_score(y_test, y_pred_ovo)\n",
        "\n",
        "print(\"OvO Accuracy:\", round(accuracy_ovo, 4))"
      ],
      "metadata": {
        "id": "LFQfzc4J_UYd",
        "colab": {
          "base_uri": "https://localhost:8080/"
        },
        "outputId": "2b54b410-1ca8-4431-9916-f8b4ede7aece"
      },
      "execution_count": null,
      "outputs": [
        {
          "output_type": "stream",
          "name": "stdout",
          "text": [
            "OvO Accuracy: 0.9833\n"
          ]
        }
      ]
    },
    {
      "cell_type": "code",
      "source": [
        "#11. Write a Python program to train a Logistic Regression model and visualize the confusion matrix for binary classification.\n",
        "\n",
        "\n",
        "import numpy as np\n",
        "import matplotlib.pyplot as plt\n",
        "import seaborn as sns\n",
        "from sklearn.model_selection import train_test_split\n",
        "from sklearn.linear_model import LogisticRegression\n",
        "from sklearn.metrics import confusion_matrix, accuracy_score\n",
        "from sklearn.datasets import load_digits\n",
        "\n",
        "# Load dataset\n",
        "digits = load_digits()\n",
        "X, y = digits.data, digits.target\n",
        "\n",
        "# Convert to binary classification (e.g., Digit > 4 = 1, otherwise = 0)\n",
        "y_binary = (y > 4).astype(int)\n",
        "\n",
        "# Split dataset\n",
        "X_train, X_test, y_train, y_test = train_test_split(X, y_binary, test_size=0.2, random_state=42)\n",
        "\n",
        "# Train Logistic Regression model\n",
        "log_reg = LogisticRegression(solver='liblinear')\n",
        "log_reg.fit(X_train, y_train)\n",
        "\n",
        "# Predict\n",
        "y_pred = log_reg.predict(X_test)\n",
        "\n",
        "# Compute Confusion Matrix\n",
        "cm = confusion_matrix(y_test, y_pred)\n",
        "\n",
        "# Visualize Confusion Matrix\n",
        "plt.figure(figsize=(6, 4))\n",
        "sns.heatmap(cm, annot=True, fmt='d', cmap='Blues', xticklabels=['Class 0', 'Class 1'], yticklabels=['Class 0', 'Class 1'])\n",
        "plt.xlabel('Predicted')\n",
        "plt.ylabel('Actual')\n",
        "plt.title('Confusion Matrix')\n",
        "plt.show()\n",
        "\n",
        "# Print Accuracy\n",
        "print(\"Model Accuracy:\", round(accuracy_score(y_test, y_pred), 4))"
      ],
      "metadata": {
        "id": "1Mk0fx0y_Wy7",
        "colab": {
          "base_uri": "https://localhost:8080/",
          "height": 269
        },
        "outputId": "e0e5bce0-3486-4f4b-bf5c-33746cfdb44e"
      },
      "execution_count": null,
      "outputs": [
        {
          "output_type": "display_data",
          "data": {
            "text/plain": [
              "<Figure size 600x400 with 2 Axes>"
            ],
            "image/png": "[encoded data removed]"
          },
          "metadata": {}
        },
        {
          "output_type": "stream",
          "name": "stdout",
          "text": [
            "Model Accuracy: 0.9056\n"
          ]
        }
      ]
    },
    {
      "cell_type": "code",
      "source": [
        "# 12. Write a Python program to train a Logistic Regression model and evaluate its performance using Precision, Recall, and F1-Score.\n",
        "\n",
        "import numpy as np\n",
        "import matplotlib.pyplot as plt\n",
        "import seaborn as sns\n",
        "from sklearn.model_selection import train_test_split\n",
        "from sklearn.linear_model import LogisticRegression\n",
        "from sklearn.metrics import classification_report, accuracy_score\n",
        "from sklearn.datasets import load_digits\n",
        "\n",
        "# Load dataset\n",
        "digits = load_digits()\n",
        "X, y = digits.data, digits.target\n",
        "\n",
        "# Convert to binary classification (e.g., Digit > 4 = 1, otherwise = 0)\n",
        "y_binary = (y > 4).astype(int)\n",
        "\n",
        "# Split dataset\n",
        "X_train, X_test, y_train, y_test = train_test_split(X, y_binary, test_size=0.2, random_state=42)\n",
        "\n",
        "# Train Logistic Regression model\n",
        "log_reg = LogisticRegression(solver='liblinear')\n",
        "log_reg.fit(X_train, y_train)\n",
        "\n",
        "# Predict\n",
        "y_pred = log_reg.predict(X_test)\n",
        "\n",
        "# Print Classification Report (Precision, Recall, F1-Score)\n",
        "print(\"Classification Report:\\n\", classification_report(y_test, y_pred))\n",
        "\n",
        "# Print Accuracy\n",
        "print(\"Model Accuracy:\", round(accuracy_score(y_test, y_pred), 4))"
      ],
      "metadata": {
        "id": "gUDANjbO_Xfh",
        "colab": {
          "base_uri": "https://localhost:8080/"
        },
        "outputId": "84c3b6cb-8011-464c-c2c6-cb750430c336"
      },
      "execution_count": null,
      "outputs": [
        {
          "output_type": "stream",
          "name": "stdout",
          "text": [
            "Classification Report:\n",
            "               precision    recall  f1-score   support\n",
            "\n",
            "           0       0.90      0.91      0.90       174\n",
            "           1       0.91      0.90      0.91       186\n",
            "\n",
            "    accuracy                           0.91       360\n",
            "   macro avg       0.91      0.91      0.91       360\n",
            "weighted avg       0.91      0.91      0.91       360\n",
            "\n",
            "Model Accuracy: 0.9056\n"
          ]
        }
      ]
    },
    {
      "cell_type": "code",
      "source": [
        "#13. Write a Python program to train a Logistic Regression model on imbalanced data and apply class weights to improve model performance.\n",
        "\n",
        "import numpy as np\n",
        "import matplotlib.pyplot as plt\n",
        "from sklearn.datasets import make_classification\n",
        "from sklearn.model_selection import train_test_split\n",
        "from sklearn.linear_model import LogisticRegression\n",
        "from sklearn.metrics import classification_report\n",
        "\n",
        "# Generate imbalanced dataset\n",
        "X, y = make_classification(n_samples=2000, n_features=10, weights=[0.9, 0.1], random_state=42)\n",
        "\n",
        "# Split dataset\n",
        "X_train, X_test, y_train, y_test = train_test_split(X, y, test_size=0.2, random_state=42)\n",
        "\n",
        "# Train Logistic Regression without class weights (baseline)\n",
        "log_reg = LogisticRegression(solver='liblinear')\n",
        "log_reg.fit(X_train, y_train)\n",
        "y_pred = log_reg.predict(X_test)\n",
        "\n",
        "# Train Logistic Regression with class weights\n",
        "log_reg_balanced = LogisticRegression(solver='liblinear', class_weight='balanced')\n",
        "log_reg_balanced.fit(X_train, y_train)\n",
        "y_pred_balanced = log_reg_balanced.predict(X_test)\n",
        "\n",
        "# Print performance comparison\n",
        "print(\"Without Class Weights:\\n\", classification_report(y_test, y_pred))\n",
        "print(\"With Class Weights:\\n\", classification_report(y_test, y_pred_balanced))"
      ],
      "metadata": {
        "id": "4TeLS55n_X-x",
        "colab": {
          "base_uri": "https://localhost:8080/"
        },
        "outputId": "100c9ee6-e0c6-4e4d-d8a1-f93c86995e7a"
      },
      "execution_count": null,
      "outputs": [
        {
          "output_type": "stream",
          "name": "stdout",
          "text": [
            "Without Class Weights:\n",
            "               precision    recall  f1-score   support\n",
            "\n",
            "           0       0.97      0.98      0.97       356\n",
            "           1       0.82      0.73      0.77        44\n",
            "\n",
            "    accuracy                           0.95       400\n",
            "   macro avg       0.89      0.85      0.87       400\n",
            "weighted avg       0.95      0.95      0.95       400\n",
            "\n",
            "With Class Weights:\n",
            "               precision    recall  f1-score   support\n",
            "\n",
            "           0       0.99      0.92      0.96       356\n",
            "           1       0.61      0.95      0.74        44\n",
            "\n",
            "    accuracy                           0.93       400\n",
            "   macro avg       0.80      0.94      0.85       400\n",
            "weighted avg       0.95      0.93      0.93       400\n",
            "\n"
          ]
        }
      ]
    },
    {
      "cell_type": "code",
      "source": [
        "#14. Write a Python program to train Logistic Regression on the Titanic dataset, handle missing values, and evaluate performance.\n",
        "\n",
        "\n",
        "import pandas as pd\n",
        "import numpy as np\n",
        "from sklearn.model_selection import train_test_split\n",
        "from sklearn.linear_model import LogisticRegression\n",
        "from sklearn.metrics import accuracy_score\n",
        "\n",
        "# Load Titanic dataset\n",
        "url = \"https://raw.githubusercontent.com/datasciencedojo/datasets/master/titanic.csv\"\n",
        "df = pd.read_csv(url)\n",
        "\n",
        "# Select features and target\n",
        "features = ['Pclass', 'Sex', 'Age', 'SibSp', 'Parch', 'Fare']\n",
        "df = df[features + ['Survived']]\n",
        "\n",
        "# Convert categorical variable 'Sex' to numerical (0: female, 1: male)\n",
        "df['Sex'] = df['Sex'].map({'male': 1, 'female': 0})\n",
        "\n",
        "# Handle missing values properly\n",
        "df['Age'] = df['Age'].fillna(df['Age'].median())  # Fill NaN in 'Age' with median\n",
        "df['Fare'] = df['Fare'].fillna(df['Fare'].median())  # Fill NaN in 'Fare' with median\n",
        "\n",
        "# Split dataset\n",
        "X = df[features]\n",
        "y = df['Survived']\n",
        "X_train, X_test, y_train, y_test = train_test_split(X, y, test_size=0.2, random_state=42)\n",
        "\n",
        "# Train Logistic Regression\n",
        "model = LogisticRegression(max_iter=5000)\n",
        "model.fit(X_train, y_train)\n",
        "\n",
        "# Make predictions\n",
        "y_pred = model.predict(X_test)\n",
        "\n",
        "# Evaluate accuracy\n",
        "accuracy = accuracy_score(y_test, y_pred)\n",
        "print(\"Model Accuracy on Titanic Dataset:\", round(accuracy, 4))"
      ],
      "metadata": {
        "id": "M3XCHayV_Yd2",
        "colab": {
          "base_uri": "https://localhost:8080/"
        },
        "outputId": "1ab97e7f-4d54-43bf-f768-8bb88f548634"
      },
      "execution_count": null,
      "outputs": [
        {
          "output_type": "stream",
          "name": "stdout",
          "text": [
            "Model Accuracy on Titanic Dataset: 0.8101\n"
          ]
        }
      ]
    },
    {
      "cell_type": "code",
      "source": [
        "#15. Write a Python program to apply feature scaling (Standardization) before training a Logistic Regression model. Evaluate its accuracy and compare results with and without scaling.\n",
        "\n",
        "\n",
        "from sklearn.preprocessing import StandardScaler\n",
        "from sklearn.metrics import accuracy_score\n",
        "\n",
        "# Load dataset\n",
        "digits = load_digits()\n",
        "X, y = digits.data, digits.target\n",
        "\n",
        "# Convert to binary classification (Digit > 4 = 1, else 0)\n",
        "y_binary = (y > 4).astype(int)\n",
        "\n",
        "# Split dataset\n",
        "X_train, X_test, y_train, y_test = train_test_split(X, y_binary, test_size=0.2, random_state=42)\n",
        "\n",
        "# Train model WITHOUT scaling\n",
        "log_reg = LogisticRegression(solver='liblinear')\n",
        "log_reg.fit(X_train, y_train)\n",
        "y_pred = log_reg.predict(X_test)\n",
        "accuracy_no_scaling = accuracy_score(y_test, y_pred)\n",
        "\n",
        "# Apply Standardization\n",
        "scaler = StandardScaler()\n",
        "X_train_scaled = scaler.fit_transform(X_train)\n",
        "X_test_scaled = scaler.transform(X_test)\n",
        "\n",
        "# Train model WITH scaling\n",
        "log_reg_scaled = LogisticRegression(solver='liblinear')\n",
        "log_reg_scaled.fit(X_train_scaled, y_train)\n",
        "y_pred_scaled = log_reg_scaled.predict(X_test_scaled)\n",
        "accuracy_with_scaling = accuracy_score(y_test, y_pred_scaled)\n",
        "\n",
        "# Print comparison\n",
        "print(\"Accuracy without Scaling:\", round(accuracy_no_scaling, 4))\n",
        "print(\"Accuracy with Scaling:\", round(accuracy_with_scaling, 4))"
      ],
      "metadata": {
        "id": "R7yANl04_Y7B",
        "colab": {
          "base_uri": "https://localhost:8080/"
        },
        "outputId": "84ee06ac-954a-4f2f-8447-b769af226471"
      },
      "execution_count": null,
      "outputs": [
        {
          "output_type": "stream",
          "name": "stdout",
          "text": [
            "Accuracy without Scaling: 0.9056\n",
            "Accuracy with Scaling: 0.9111\n"
          ]
        }
      ]
    },
    {
      "cell_type": "code",
      "source": [
        "#16. Write a Python program to train Logistic Regression and evaluate its performance using ROC-AUC score?\n",
        "\n",
        "import numpy as np\n",
        "import matplotlib.pyplot as plt\n",
        "from sklearn.datasets import make_classification\n",
        "from sklearn.model_selection import train_test_split\n",
        "from sklearn.linear_model import LogisticRegression\n",
        "from sklearn.metrics import roc_auc_score, roc_curve\n",
        "\n",
        "# Generate dataset\n",
        "X, y = make_classification(n_samples=1000, n_features=10, random_state=42)\n",
        "\n",
        "# Split dataset\n",
        "X_train, X_test, y_train, y_test = train_test_split(X, y, test_size=0.2, random_state=42)\n",
        "\n",
        "# Train Logistic Regression\n",
        "log_reg = LogisticRegression(solver='liblinear')\n",
        "log_reg.fit(X_train, y_train)\n",
        "\n",
        "# Predict probabilities\n",
        "y_probs = log_reg.predict_proba(X_test)[:, 1]\n",
        "\n",
        "# Compute ROC-AUC Score\n",
        "roc_auc = roc_auc_score(y_test, y_probs)\n",
        "print(\"ROC-AUC Score:\", round(roc_auc, 4))\n",
        "\n",
        "# Plot ROC Curve\n",
        "fpr, tpr, _ = roc_curve(y_test, y_probs)\n",
        "plt.plot(fpr, tpr, label=\"ROC Curve (AUC = {:.4f})\".format(roc_auc))\n",
        "plt.xlabel(\"False Positive Rate\")\n",
        "plt.ylabel(\"True Positive Rate\")\n",
        "plt.title(\"ROC Curve\")\n",
        "plt.legend()\n",
        "plt.show()"
      ],
      "metadata": {
        "id": "JdBJtSZO_ZZH",
        "colab": {
          "base_uri": "https://localhost:8080/",
          "height": 278
        },
        "outputId": "709e2196-cc28-4c2b-d162-52ef2c97c75a"
      },
      "execution_count": null,
      "outputs": [
        {
          "output_type": "stream",
          "name": "stdout",
          "text": [
            "ROC-AUC Score: 0.9126\n"
          ]
        },
        {
          "output_type": "display_data",
          "data": {
            "text/plain": [
              "<Figure size 640x480 with 1 Axes>"
            ],
            "image/png": "[encoded data removed]"
          },
          "metadata": {}
        }
      ]
    },
    {
      "cell_type": "code",
      "source": [
        "#17. Write a Python program to train Logistic Regression using a custom learning rate (C=0.5) and evaluate accuracy?\n",
        "\n",
        "from sklearn.metrics import accuracy_score\n",
        "\n",
        "# Train Logistic Regression with C=0.5\n",
        "log_reg_custom = LogisticRegression(solver='liblinear', C=0.5)\n",
        "log_reg_custom.fit(X_train, y_train)\n",
        "\n",
        "# Predict & Evaluate\n",
        "y_pred_custom = log_reg_custom.predict(X_test)\n",
        "accuracy = accuracy_score(y_test, y_pred_custom)\n",
        "\n",
        "print(\"Accuracy with C=0.5:\", round(accuracy, 4))"
      ],
      "metadata": {
        "id": "ysGptYNB_aLv",
        "colab": {
          "base_uri": "https://localhost:8080/"
        },
        "outputId": "8fffccfe-004f-4ce3-e8af-5015d5ca6865"
      },
      "execution_count": null,
      "outputs": [
        {
          "output_type": "stream",
          "name": "stdout",
          "text": [
            "Accuracy with C=0.5: 0.83\n"
          ]
        }
      ]
    },
    {
      "cell_type": "code",
      "source": [
        "#18. Write a Python program to train Logistic Regression and identify important features based on model coefficients?\n",
        "\n",
        "import pandas as pd\n",
        "\n",
        "# Get feature importance\n",
        "feature_importance = pd.DataFrame({\"Feature\": range(X.shape[1]), \"Importance\": np.abs(log_reg_custom.coef_[0])})\n",
        "feature_importance = feature_importance.sort_values(by=\"Importance\", ascending=False)\n",
        "\n",
        "# Print important features\n",
        "print(\"Top Important Features:\\n\", feature_importance.head())"
      ],
      "metadata": {
        "id": "ayRdJSSO_apK",
        "colab": {
          "base_uri": "https://localhost:8080/"
        },
        "outputId": "efc62985-52a2-4e22-eaf7-22bd98b04080"
      },
      "execution_count": null,
      "outputs": [
        {
          "output_type": "stream",
          "name": "stdout",
          "text": [
            "Top Important Features:\n",
            "    Feature  Importance\n",
            "6        6    1.592194\n",
            "2        2    0.733129\n",
            "8        8    0.612925\n",
            "0        0    0.446423\n",
            "5        5    0.220748\n"
          ]
        }
      ]
    },
    {
      "cell_type": "code",
      "source": [
        "#19. Write a Python program to train Logistic Regression and evaluate its performance using Cohen’s Kappa Score?\n",
        "\n",
        "\n",
        "from sklearn.metrics import cohen_kappa_score\n",
        "\n",
        "# Compute Cohen's Kappa Score\n",
        "kappa_score = cohen_kappa_score(y_test, y_pred_custom)\n",
        "print(\"Cohen’s Kappa Score:\", round(kappa_score, 4))"
      ],
      "metadata": {
        "id": "EEuSximH_bHv",
        "colab": {
          "base_uri": "https://localhost:8080/"
        },
        "outputId": "a39ab490-0922-4f0f-bc15-6da1dc6147fd"
      },
      "execution_count": null,
      "outputs": [
        {
          "output_type": "stream",
          "name": "stdout",
          "text": [
            "Cohen’s Kappa Score: 0.6581\n"
          ]
        }
      ]
    },
    {
      "cell_type": "code",
      "source": [
        "#20. Write a Python program to train Logistic Regression and visualize the Precision-Recall Curve for binary classification?\n",
        "\n",
        "from sklearn.metrics import precision_recall_curve\n",
        "\n",
        "# Compute Precision-Recall values\n",
        "precision, recall, _ = precision_recall_curve(y_test, y_probs)\n",
        "\n",
        "# Plot Precision-Recall Curve\n",
        "plt.plot(recall, precision, marker='.')\n",
        "plt.xlabel(\"Recall\")\n",
        "plt.ylabel(\"Precision\")\n",
        "plt.title(\"Precision-Recall Curve\")\n",
        "plt.show()"
      ],
      "metadata": {
        "id": "UFOQYa_H_bhc",
        "colab": {
          "base_uri": "https://localhost:8080/",
          "height": 261
        },
        "outputId": "cf38b8c4-c064-475c-d5d3-858c4f12f096"
      },
      "execution_count": null,
      "outputs": [
        {
          "output_type": "display_data",
          "data": {
            "text/plain": [
              "<Figure size 640x480 with 1 Axes>"
            ],
            "image/png": "[encoded data removed]"
          },
          "metadata": {}
        }
      ]
    },
    {
      "cell_type": "code",
      "source": [
        "#21. Write a Python program to train Logistic Regression with different solvers (liblinear, saga, lbfgs) and compare their accuracy?\n",
        "\n",
        "solvers = ['liblinear', 'saga', 'lbfgs']\n",
        "accuracy_results = {}\n",
        "\n",
        "for solver in solvers:\n",
        "    model = LogisticRegression(solver=solver, max_iter=5000)\n",
        "    model.fit(X_train, y_train)\n",
        "    accuracy_results[solver] = model.score(X_test, y_test)\n",
        "\n",
        "# Print accuracy for each solver\n",
        "for solver, acc in accuracy_results.items():\n",
        "    print(f\"Solver: {solver}, Accuracy: {round(acc, 4)}\")"
      ],
      "metadata": {
        "id": "HbRjXVnK_NsP",
        "colab": {
          "base_uri": "https://localhost:8080/"
        },
        "outputId": "c7696244-a0e4-4bf4-ed59-cdb815df517b"
      },
      "execution_count": null,
      "outputs": [
        {
          "output_type": "stream",
          "name": "stdout",
          "text": [
            "Solver: liblinear, Accuracy: 0.83\n",
            "Solver: saga, Accuracy: 0.83\n",
            "Solver: lbfgs, Accuracy: 0.83\n"
          ]
        }
      ]
    },
    {
      "cell_type": "code",
      "source": [
        "#22. Write a Python program to train Logistic Regression and evaluate its performance using Matthews  Correlation Coefficient (MCC)?\n",
        "from sklearn.metrics import matthews_corrcoef\n",
        "\n",
        "# Compute MCC\n",
        "mcc_score = matthews_corrcoef(y_test, y_pred_custom)\n",
        "print(\"Matthews Correlation Coefficient (MCC):\", round(mcc_score, 4))"
      ],
      "metadata": {
        "id": "_1ctRkEW_M5N",
        "colab": {
          "base_uri": "https://localhost:8080/"
        },
        "outputId": "81f69f92-6a66-4cd2-ec6a-280b16124fe1"
      },
      "execution_count": null,
      "outputs": [
        {
          "output_type": "stream",
          "name": "stdout",
          "text": [
            "Matthews Correlation Coefficient (MCC): 0.6593\n"
          ]
        }
      ]
    },
    {
      "cell_type": "code",
      "source": [
        "#23. Write a Python program to train Logistic Regression on both raw and standardized data. Compare their accuracy to see the impact of feature scaling?\n",
        "from sklearn.preprocessing import StandardScaler\n",
        "from sklearn.metrics import accuracy_score\n",
        "\n",
        "# Train on raw data\n",
        "raw_model = LogisticRegression(solver='liblinear', max_iter=5000)\n",
        "raw_model.fit(X_train, y_train)\n",
        "raw_accuracy = raw_model.score(X_test, y_test)\n",
        "\n",
        "# Apply standardization\n",
        "scaler = StandardScaler()\n",
        "X_train_scaled = scaler.fit_transform(X_train)\n",
        "X_test_scaled = scaler.transform(X_test)\n",
        "\n",
        "# Train on standardized data\n",
        "scaled_model = LogisticRegression(solver='liblinear', max_iter=5000)\n",
        "scaled_model.fit(X_train_scaled, y_train)\n",
        "scaled_accuracy = scaled_model.score(X_test_scaled, y_test)\n",
        "\n",
        "# Print accuracy comparison\n",
        "print(\"Raw Data Accuracy:\", round(raw_accuracy, 4))\n",
        "print(\"Standardized Data Accuracy:\", round(scaled_accuracy, 4))"
      ],
      "metadata": {
        "id": "eOTmLSmf_NGf",
        "colab": {
          "base_uri": "https://localhost:8080/"
        },
        "outputId": "63c41a33-5f57-4fb1-b7b6-fe62e9ea3dd1"
      },
      "execution_count": null,
      "outputs": [
        {
          "output_type": "stream",
          "name": "stdout",
          "text": [
            "Raw Data Accuracy: 0.83\n",
            "Standardized Data Accuracy: 0.83\n"
          ]
        }
      ]
    },
    {
      "cell_type": "code",
      "source": [
        "#24. Write a Python program to train Logistic Regression and find the optimal C (regularization strength) using cross-validation?\n",
        "\n",
        "import numpy as np\n",
        "import pandas as pd\n",
        "from sklearn.model_selection import train_test_split, GridSearchCV\n",
        "from sklearn.linear_model import LogisticRegression\n",
        "from sklearn.datasets import load_digits\n",
        "\n",
        "# Load dataset\n",
        "digits = load_digits()\n",
        "X, y = digits.data, digits.target\n",
        "\n",
        "# Split dataset\n",
        "X_train, X_test, y_train, y_test = train_test_split(X, y, test_size=0.2, random_state=42)\n",
        "\n",
        "# Define hyperparameter grid for 'C'\n",
        "param_grid = {'C': np.logspace(-4, 4, 10)}  # Values from 0.0001 to 10000\n",
        "\n",
        "# Apply GridSearchCV to find best C\n",
        "log_reg = LogisticRegression(max_iter=5000, solver='liblinear')\n",
        "grid_search = GridSearchCV(log_reg, param_grid, cv=5, scoring='accuracy', verbose=1)\n",
        "grid_search.fit(X_train, y_train)\n",
        "\n",
        "# Print best C and accuracy\n",
        "print(\"Best C:\", grid_search.best_params_['C'])\n",
        "print(\"Best Accuracy:\", round(grid_search.best_score_, 4))"
      ],
      "metadata": {
        "id": "QrzZPIMI_NOP",
        "colab": {
          "base_uri": "https://localhost:8080/"
        },
        "outputId": "e300c2fc-f19d-4b67-bbd9-dfd6adecdeb3"
      },
      "execution_count": null,
      "outputs": [
        {
          "output_type": "stream",
          "name": "stdout",
          "text": [
            "Fitting 5 folds for each of 10 candidates, totalling 50 fits\n",
            "Best Regularization Strength (C): 0.005994842503189409\n",
            "Best Accuracy: 0.8788\n"
          ]
        }
      ]
    },
    {
      "cell_type": "code",
      "source": [
        "#25. Write a Python program to train Logistic Regression, save the trained model using joblib, and load it again to make predictions.\n",
        "\n",
        "import joblib\n",
        "\n",
        "# Train Logistic Regression\n",
        "final_model = LogisticRegression(solver='liblinear', max_iter=5000)\n",
        "final_model.fit(X_train, y_train)\n",
        "\n",
        "# Save model\n",
        "joblib.dump(final_model, \"logistic_model.pkl\")\n",
        "\n",
        "# Load model\n",
        "loaded_model = joblib.load(\"logistic_model.pkl\")\n",
        "\n",
        "# Predict using loaded model\n",
        "new_predictions = loaded_model.predict(X_test)\n",
        "\n",
        "# Evaluate accuracy\n",
        "accuracy_loaded = accuracy_score(y_test, new_predictions)\n",
        "print(\"Loaded Model Accuracy:\", round(accuracy_loaded, 4))"
      ],
      "metadata": {
        "id": "rUjzq97N_NUA",
        "colab": {
          "base_uri": "https://localhost:8080/"
        },
        "outputId": "7f908a8f-3e30-47f2-be5c-30ec935baeb3"
      },
      "execution_count": null,
      "outputs": [
        {
          "output_type": "stream",
          "name": "stdout",
          "text": [
            "Loaded Model Accuracy: 0.83\n"
          ]
        }
      ]
    }
  ]
}